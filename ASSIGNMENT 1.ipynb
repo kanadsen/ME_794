{
 "cells": [
  {
   "attachments": {},
   "cell_type": "markdown",
   "metadata": {},
   "source": [
    "## Problem Statement 1\n",
    "\n",
    "Q) Suppose that you want to investigate the process of tea preparation. (You may choose your own style of tea, e.g., regular, masala, kadak etc.)\n",
    " - What would you use as the response variable?\n",
    " - List all of the potential sources of variability that impact the response."
   ]
  },
  {
   "attachments": {},
   "cell_type": "markdown",
   "metadata": {},
   "source": [
    "- Response variable is that variable which we want to quantify as output. So in this case we can use a number of response variables to quantify our output:\n",
    "1. Smell\n",
    "2. Taste\n",
    "3. Colour\n"
   ]
  },
  {
   "attachments": {},
   "cell_type": "markdown",
   "metadata": {},
   "source": [
    "## Problem Statement 2\n",
    "\n",
    "Q) Create a script in python to get maximum, minimum, and average values from the following data elements.\n",
    " - Datapoints : [6.08 6.22 7.99 7.44 6.48 7.99 6.32 7.60 6.03 7.52]\n",
    " - Estimate median, compare it with the average value and comment on the result."
   ]
  },
  {
   "cell_type": "code",
   "execution_count": 12,
   "metadata": {},
   "outputs": [
    {
     "data": {
      "image/png": "[encoded data removed]",
      "text/plain": [
       "<Figure size 640x480 with 1 Axes>"
      ]
     },
     "metadata": {},
     "output_type": "display_data"
    },
    {
     "name": "stdout",
     "output_type": "stream",
     "text": [
      "MEDIAN = 6.960000000000001\n",
      "MEAN= 6.9670000000000005\n",
      "MAXIMUM VALUE= 7.99\n",
      "MINIMUM VALUE= 6.03\n"
     ]
    },
    {
     "data": {
      "text/plain": [
       "'\\nCOMMENTS ON THE RESULT:\\n\\nFrom the output it can be seen that here we get Mean and the median of the dataset are equal. Therefore from the dataset we can conclude \\nthat since median is the center of dataset and equal to mean so the points are evenly distributed and equally spaced.\\n\\n'"
      ]
     },
     "execution_count": 12,
     "metadata": {},
     "output_type": "execute_result"
    }
   ],
   "source": [
    "import matplotlib.pyplot as plt\n",
    "import statistics\n",
    "li=[6.08,6.22,7.99,7.44,6.48,7.99,6.32,7.60,6.03,7.52]\n",
    "li.sort()\n",
    "#print(li)\n",
    "plt.plot(li)\n",
    "plt.ylim(2,12)\n",
    "plt.show()\n",
    "print(\"MEDIAN =\",statistics.median(li))\n",
    "print(\"MEAN=\",statistics.mean(li))\n",
    "print(\"MAXIMUM VALUE=\",max(li))\n",
    "print(\"MINIMUM VALUE=\",min(li))\n",
    "\n",
    "'''\n",
    "COMMENTS ON THE RESULT:\n",
    "\n",
    "From the output it can be seen that here we get Mean and the median of the dataset are equal. Therefore from the dataset we can conclude \n",
    "that since median is the center of dataset and equal to mean so the points are evenly distributed and equally spaced.\n",
    "\n",
    "'''\n"
   ]
  }
 ],
 "metadata": {
  "kernelspec": {
   "display_name": "Python 3",
   "language": "python",
   "name": "python3"
  },
  "language_info": {
   "codemirror_mode": {
    "name": "ipython",
    "version": 3
   },
   "file_extension": ".py",
   "mimetype": "text/x-python",
   "name": "python",
   "nbconvert_exporter": "python",
   "pygments_lexer": "ipython3",
   "version": "3.9.13"
  },
  "orig_nbformat": 4,
  "vscode": {
   "interpreter": {
    "hash": "b9f7f17e2dfc0342ad8fd0225d136ef60900e874e384a8df6732177035c72636"
   }
  }
 },
 "nbformat": 4,
 "nbformat_minor": 2
}
