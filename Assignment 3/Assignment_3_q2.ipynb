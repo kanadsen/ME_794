{
 "cells": [
  {
   "attachments": {},
   "cell_type": "markdown",
   "metadata": {},
   "source": [
    "### QUESTION 2:\n",
    "\n",
    "- Two machines are used for filling plastic bottles with a net volume of 16.0 ounces. The filling processes can be assumed to be normal, with standard deviations of 𝜎1 = 0.015 and 𝜎2 = 0.018. The quality engineering department suspects that both machines fill to the same \n",
    "net volume, whether or not this volume is 16.0 ounces. An experiment is performed by taking a random sample from the output of each machine."
   ]
  },
  {
   "attachments": {},
   "cell_type": "markdown",
   "metadata": {},
   "source": [
    "- Input Data : \n",
    "\n",
    "1. Machine 1 16.03 16.04 16.50 16.05 16.02 16.10 15.96 15.98 16.02 15.99\n",
    "2. Machine 2 16.02 15.97 15.96 16.01 15.99 16.03 16.04 16.02 16.01 16.00"
   ]
  },
  {
   "attachments": {},
   "cell_type": "markdown",
   "metadata": {},
   "source": [
    "a) State the hypotheses that should be tested in this experiment."
   ]
  },
  {
   "attachments": {},
   "cell_type": "markdown",
   "metadata": {},
   "source": [
    "- The hypotheses that should be tested in this experiment are:\n",
    "\n",
    "1. Null Hypothesis: 𝜇1 - 𝜇2 = 0 (Both machines fill to the same net volume)\n",
    "2. Alternative Hypothesis: 𝜇1 - 𝜇2 ≠ 0 (Both machines do not fill to the same net volume)\n",
    "\n",
    "where 𝜇1 and 𝜇2 are the sample means of the net volume filled by machine 1 and machine 2, respectively."
   ]
  },
  {
   "attachments": {},
   "cell_type": "markdown",
   "metadata": {},
   "source": [
    "b) Test these hypotheses using α = 0.05 and state whether we accept or reject them?"
   ]
  },
  {
   "cell_type": "code",
   "execution_count": 22,
   "metadata": {},
   "outputs": [
    {
     "name": "stdout",
     "output_type": "stream",
     "text": [
      "Degree of Freedom: 18\n",
      "\n",
      "Sample 1 mean: 16.069000000000003\n",
      "Sample 2 mean: 16.005000000000003\n",
      "Sample 1 standard deviation: 0.015\n",
      "Sample 2 standard deviation: 0.018\n",
      "\n",
      "Calculated z-value: 8.637614188575112\n",
      "Calculated z-value for dof=18 and two tailed alpha=0.05: 1.95996\n",
      "p-value: 8.085405851143598e-08\n",
      "\n",
      "Reject Null Hypothesis\n"
     ]
    }
   ],
   "source": [
    "import numpy as np\n",
    "from scipy import stats\n",
    "import math\n",
    "\n",
    "Machine_1 = [16.03, 16.04, 16.50, 16.05, 16.02, 16.10, 15.96, 15.98, 16.02 ,15.99]\n",
    "Machine_2 = [16.02, 15.97, 15.96, 16.01, 15.99, 16.03, 16.04, 16.02, 16.01, 16.00]\n",
    "\n",
    "\n",
    "n_1 = len(Machine_2)\n",
    "n_2 = len(Machine_2)\n",
    "\n",
    "dof=n_1 + n_2 - 2 # Degree of freedom\n",
    "\n",
    "print(\"Degree of Freedom:\",dof)\n",
    "\n",
    "mean_1 = sum(Machine_1)/n_1\n",
    "mean_2 = sum(Machine_2)/n_2\n",
    "\n",
    "# Given standard deviations\n",
    "std_1 = 0.015  \n",
    "std_2 = 0.018\n",
    "\n",
    "# Performing z-test  since std are given\n",
    "\n",
    "# Calculate z value\n",
    "z_calculated = abs((mean_1 - mean_2) / math.sqrt(std_1**2/n_1 + std_2**2/n_2))  # Taking absolute value of z\n",
    "\n",
    "# Calculate critical value of t\n",
    "alpha = 0.05\n",
    "z_critical = np.abs(np.round(stats.norm.ppf(alpha/2), 5))\n",
    "\n",
    "# Determine p-value\n",
    "p_value = 2 * stats.t.cdf(-np.abs(z_calculated), dof)\n",
    "\n",
    "print(\"\\nSample 1 mean:\", mean_1)\n",
    "print(\"Sample 2 mean:\", mean_2)\n",
    "print(\"Sample 1 standard deviation:\", std_1)\n",
    "print(\"Sample 2 standard deviation:\", std_2)\n",
    "print(\"\\nCalculated z-value:\", z_calculated)\n",
    "print(\"Calculated z-value for dof=18 and two tailed alpha=0.05:\", z_critical)\n",
    "print(\"p-value:\", p_value)\n",
    "\n",
    "if(z_calculated<z_critical and  p_value>alpha):\n",
    "    print(\"\\nAccept Null Hypothesis\")\n",
    "else:\n",
    "    print(\"\\nReject Null Hypothesis\")"
   ]
  },
  {
   "attachments": {},
   "cell_type": "markdown",
   "metadata": {},
   "source": [
    "### Comments:\n",
    "\n",
    "- Since the z_calculated value is much higher than z_critical value we reject the Null Hypothesis."
   ]
  },
  {
   "attachments": {},
   "cell_type": "markdown",
   "metadata": {},
   "source": [
    "c) Find a 95 percent confidence interval on the difference in mean fill volume for the two machines."
   ]
  },
  {
   "cell_type": "code",
   "execution_count": 23,
   "metadata": {},
   "outputs": [
    {
     "name": "stdout",
     "output_type": "stream",
     "text": [
      "0.014522232327291832\n",
      " \n",
      "95% Confidence Interval :\n",
      "Lower limit of Confidence Interval: 0.04947776767270823\n",
      "Upper limit of Confidence Interval: 0.07852223232729189\n"
     ]
    }
   ],
   "source": [
    "SE=math.sqrt(std_1**2/n_1 + std_2**2/n_2)\n",
    "CI_lower = (mean_1 - mean_2) - z_critical * SE\n",
    "CI_upper = (mean_1 - mean_2) + z_critical * SE\n",
    "\n",
    "print(z_critical * SE)\n",
    "\n",
    "print(\" \\n95% Confidence Interval :\")\n",
    "print(\"Lower limit of Confidence Interval:\",CI_lower)\n",
    "print(\"Upper limit of Confidence Interval:\",CI_upper)"
   ]
  }
 ],
 "metadata": {
  "kernelspec": {
   "display_name": "Python 3",
   "language": "python",
   "name": "python3"
  },
  "language_info": {
   "codemirror_mode": {
    "name": "ipython",
    "version": 3
   },
   "file_extension": ".py",
   "mimetype": "text/x-python",
   "name": "python",
   "nbconvert_exporter": "python",
   "pygments_lexer": "ipython3",
   "version": "3.9.13"
  },
  "orig_nbformat": 4,
  "vscode": {
   "interpreter": {
    "hash": "b9f7f17e2dfc0342ad8fd0225d136ef60900e874e384a8df6732177035c72636"
   }
  }
 },
 "nbformat": 4,
 "nbformat_minor": 2
}
