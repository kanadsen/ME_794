{
 "cells": [
  {
   "cell_type": "code",
   "execution_count": 23,
   "metadata": {},
   "outputs": [],
   "source": [
    "import numpy as np\n",
    "import matplotlib.pyplot as plt\n",
    "import scipy.stats as stats\n",
    "import pandas as pd"
   ]
  },
  {
   "attachments": {},
   "cell_type": "markdown",
   "metadata": {},
   "source": [
    "### Question a \n",
    "\n",
    "- Is there evidence to support the claim that cotton content affects the mean tensile strength? Use α = 0.05 (Hint: Complete the ANOVA table and then comment)."
   ]
  },
  {
   "cell_type": "code",
   "execution_count": 24,
   "metadata": {},
   "outputs": [
    {
     "data": {
      "text/html": [
       "<div>\n",
       "<style scoped>\n",
       "    .dataframe tbody tr th:only-of-type {\n",
       "        vertical-align: middle;\n",
       "    }\n",
       "\n",
       "    .dataframe tbody tr th {\n",
       "        vertical-align: top;\n",
       "    }\n",
       "\n",
       "    .dataframe thead th {\n",
       "        text-align: right;\n",
       "    }\n",
       "</style>\n",
       "<table border=\"1\" class=\"dataframe\">\n",
       "  <thead>\n",
       "    <tr style=\"text-align: right;\">\n",
       "      <th></th>\n",
       "      <th>cotton</th>\n",
       "      <th>observations</th>\n",
       "    </tr>\n",
       "  </thead>\n",
       "  <tbody>\n",
       "    <tr>\n",
       "      <th>0</th>\n",
       "      <td>15</td>\n",
       "      <td>7</td>\n",
       "    </tr>\n",
       "    <tr>\n",
       "      <th>1</th>\n",
       "      <td>15</td>\n",
       "      <td>7</td>\n",
       "    </tr>\n",
       "    <tr>\n",
       "      <th>2</th>\n",
       "      <td>15</td>\n",
       "      <td>15</td>\n",
       "    </tr>\n",
       "    <tr>\n",
       "      <th>3</th>\n",
       "      <td>15</td>\n",
       "      <td>11</td>\n",
       "    </tr>\n",
       "    <tr>\n",
       "      <th>4</th>\n",
       "      <td>15</td>\n",
       "      <td>9</td>\n",
       "    </tr>\n",
       "    <tr>\n",
       "      <th>5</th>\n",
       "      <td>20</td>\n",
       "      <td>12</td>\n",
       "    </tr>\n",
       "    <tr>\n",
       "      <th>6</th>\n",
       "      <td>20</td>\n",
       "      <td>17</td>\n",
       "    </tr>\n",
       "    <tr>\n",
       "      <th>7</th>\n",
       "      <td>20</td>\n",
       "      <td>12</td>\n",
       "    </tr>\n",
       "    <tr>\n",
       "      <th>8</th>\n",
       "      <td>20</td>\n",
       "      <td>18</td>\n",
       "    </tr>\n",
       "    <tr>\n",
       "      <th>9</th>\n",
       "      <td>20</td>\n",
       "      <td>18</td>\n",
       "    </tr>\n",
       "    <tr>\n",
       "      <th>10</th>\n",
       "      <td>25</td>\n",
       "      <td>14</td>\n",
       "    </tr>\n",
       "    <tr>\n",
       "      <th>11</th>\n",
       "      <td>25</td>\n",
       "      <td>19</td>\n",
       "    </tr>\n",
       "    <tr>\n",
       "      <th>12</th>\n",
       "      <td>25</td>\n",
       "      <td>19</td>\n",
       "    </tr>\n",
       "    <tr>\n",
       "      <th>13</th>\n",
       "      <td>25</td>\n",
       "      <td>18</td>\n",
       "    </tr>\n",
       "    <tr>\n",
       "      <th>14</th>\n",
       "      <td>25</td>\n",
       "      <td>18</td>\n",
       "    </tr>\n",
       "    <tr>\n",
       "      <th>15</th>\n",
       "      <td>30</td>\n",
       "      <td>19</td>\n",
       "    </tr>\n",
       "    <tr>\n",
       "      <th>16</th>\n",
       "      <td>30</td>\n",
       "      <td>25</td>\n",
       "    </tr>\n",
       "    <tr>\n",
       "      <th>17</th>\n",
       "      <td>30</td>\n",
       "      <td>22</td>\n",
       "    </tr>\n",
       "    <tr>\n",
       "      <th>18</th>\n",
       "      <td>30</td>\n",
       "      <td>19</td>\n",
       "    </tr>\n",
       "    <tr>\n",
       "      <th>19</th>\n",
       "      <td>30</td>\n",
       "      <td>23</td>\n",
       "    </tr>\n",
       "    <tr>\n",
       "      <th>20</th>\n",
       "      <td>35</td>\n",
       "      <td>7</td>\n",
       "    </tr>\n",
       "    <tr>\n",
       "      <th>21</th>\n",
       "      <td>35</td>\n",
       "      <td>10</td>\n",
       "    </tr>\n",
       "    <tr>\n",
       "      <th>22</th>\n",
       "      <td>35</td>\n",
       "      <td>11</td>\n",
       "    </tr>\n",
       "    <tr>\n",
       "      <th>23</th>\n",
       "      <td>35</td>\n",
       "      <td>15</td>\n",
       "    </tr>\n",
       "    <tr>\n",
       "      <th>24</th>\n",
       "      <td>35</td>\n",
       "      <td>11</td>\n",
       "    </tr>\n",
       "  </tbody>\n",
       "</table>\n",
       "</div>"
      ],
      "text/plain": [
       "    cotton  observations\n",
       "0       15             7\n",
       "1       15             7\n",
       "2       15            15\n",
       "3       15            11\n",
       "4       15             9\n",
       "5       20            12\n",
       "6       20            17\n",
       "7       20            12\n",
       "8       20            18\n",
       "9       20            18\n",
       "10      25            14\n",
       "11      25            19\n",
       "12      25            19\n",
       "13      25            18\n",
       "14      25            18\n",
       "15      30            19\n",
       "16      30            25\n",
       "17      30            22\n",
       "18      30            19\n",
       "19      30            23\n",
       "20      35             7\n",
       "21      35            10\n",
       "22      35            11\n",
       "23      35            15\n",
       "24      35            11"
      ]
     },
     "execution_count": 24,
     "metadata": {},
     "output_type": "execute_result"
    }
   ],
   "source": [
    "data = pd.DataFrame({\n",
    "    'cotton': [15, 15, 15, 15, 15, 20, 20, 20, 20, 20, 25, 25, 25, 25, 25, 30, 30, 30, 30, 30, 35, 35, 35, 35, 35],\n",
    "    'observations': [7, 7, 15, 11, 9, 12, 17, 12, 18, 18, 14, 19, 19, 18, 18, 19, 25, 22, 19, 23, 7, 10, 11, 15, 11]\n",
    "})\n",
    "data"
   ]
  },
  {
   "cell_type": "code",
   "execution_count": 25,
   "metadata": {},
   "outputs": [
    {
     "name": "stdout",
     "output_type": "stream",
     "text": [
      "Grand Mean= 15.04\n"
     ]
    }
   ],
   "source": [
    "# calculate the grand mean\n",
    "grand_mean = data['observations'].mean()\n",
    "print(\"Grand Mean=\",grand_mean)"
   ]
  },
  {
   "cell_type": "code",
   "execution_count": 26,
   "metadata": {},
   "outputs": [
    {
     "name": "stdout",
     "output_type": "stream",
     "text": [
      "Sum of squares Total = 636.9600000000002\n"
     ]
    }
   ],
   "source": [
    "SST=0\n",
    "for i in data['observations']:\n",
    "    SST+=(i-grand_mean)**2\n",
    "print(\"Sum of squares Total =\",SST)"
   ]
  },
  {
   "cell_type": "code",
   "execution_count": 27,
   "metadata": {},
   "outputs": [
    {
     "name": "stdout",
     "output_type": "stream",
     "text": [
      "Total Degrees of Freedom = 24\n"
     ]
    }
   ],
   "source": [
    "# calculate the degrees of freedom total (DFT)\n",
    "dft = data.shape[0] - 1\n",
    "print(\"Total Degrees of Freedom =\",dft)"
   ]
  },
  {
   "cell_type": "code",
   "execution_count": 28,
   "metadata": {},
   "outputs": [
    {
     "name": "stdout",
     "output_type": "stream",
     "text": [
      "Sum of squares Between = 475.7600000000001\n",
      "Degree of freedom Between = 4\n"
     ]
    }
   ],
   "source": [
    "# calculate the sum of squares between (SSB) and degrees of freedom between (DFB)\n",
    "group_means = data.groupby('cotton')['observations'].mean()\n",
    "group_mean_diff = group_means - grand_mean\n",
    "ssb = (group_mean_diff ** 2).sum() * 5\n",
    "dfb = group_means.shape[0] - 1\n",
    "print(\"Sum of squares Between =\",ssb)\n",
    "print(\"Degree of freedom Between =\",dfb)"
   ]
  },
  {
   "cell_type": "code",
   "execution_count": 29,
   "metadata": {},
   "outputs": [
    {
     "name": "stdout",
     "output_type": "stream",
     "text": [
      "Sum of squares Within Treatments = 161.2\n",
      "Degree of freedom Within Treatments = 20\n"
     ]
    }
   ],
   "source": [
    "# calculate the sum of squares within Treatments (SSW) and degrees of freedom within Treatments (DFW)\n",
    "ssw = ((data['observations'] - data.groupby('cotton')['observations'].transform('mean')) ** 2).sum()\n",
    "dfw = data.shape[0] - group_means.shape[0]\n",
    "\n",
    "print(\"Sum of squares Within Treatments =\",ssw)\n",
    "print(\"Degree of freedom Within Treatments =\",dfw)"
   ]
  },
  {
   "cell_type": "code",
   "execution_count": 30,
   "metadata": {},
   "outputs": [],
   "source": [
    "# calculate the mean square between (MSB) and mean square within treatments (MSW)\n",
    "msb = ssb / dfb\n",
    "msw = ssw / dfw"
   ]
  },
  {
   "cell_type": "code",
   "execution_count": 31,
   "metadata": {},
   "outputs": [],
   "source": [
    "# calculate the F statistic and p-value\n",
    "F_stat = msb / msw\n",
    "p_val = stats.f.sf(F_stat, dfb, dfw)"
   ]
  },
  {
   "cell_type": "code",
   "execution_count": 33,
   "metadata": {},
   "outputs": [
    {
     "name": "stdout",
     "output_type": "stream",
     "text": [
      "                           Sum of Squares  Degrees of Freedom  Mean Square  \\\n",
      "Source of Variation                                                          \n",
      "Between Treatments                 475.76                   4       118.94   \n",
      "Error (Within Treatments)          161.20                  20         8.06   \n",
      "Total                              636.96                  24          NaN   \n",
      "\n",
      "                             F value   p-value  \n",
      "Source of Variation                             \n",
      "Between Treatments         14.756824  0.000009  \n",
      "Error (Within Treatments)        NaN       NaN  \n",
      "Total                            NaN       NaN  \n"
     ]
    }
   ],
   "source": [
    "# create the ANOVA table\n",
    "anova_table = pd.DataFrame({\n",
    "    'Source of Variation': ['Between Treatments', 'Error (Within Treatments)', 'Total'],\n",
    "    'Sum of Squares': [ssb, ssw, SST],\n",
    "    'Degrees of Freedom': [dfb, dfw, dft],\n",
    "    'Mean Square': [msb, msw, np.nan],\n",
    "    'F value': [F_stat, np.nan, np.nan],\n",
    "    'p-value': [p_val, np.nan, np.nan]\n",
    "})\n",
    "\n",
    "# set the index to the source column\n",
    "anova_table.set_index('Source of Variation', inplace=True)\n",
    "\n",
    "# display the ANOVA table\n",
    "print(anova_table)"
   ]
  },
  {
   "attachments": {},
   "cell_type": "markdown",
   "metadata": {},
   "source": [
    "### Comment :\n",
    "\n",
    "- Since the resultant Fo=14.76 is greater than the F value obtained from the F table for alpha=0.05 v1=4 v2=20 is 2.8661. Also the p value is 0. As resultant Fo is > F value from table we reject Null Hypothesis that cotton % doesnot affect tensile strength.\n",
    "\n",
    "- Thus we accept the alternate Hypothesis and can say that Percentage of cotton in fibre appears to have an effect on tensile strength."
   ]
  },
  {
   "attachments": {},
   "cell_type": "markdown",
   "metadata": {},
   "source": [
    "### Question b\n",
    "\n",
    "- Analyze the residuals from this experiment and comment on model adequacy. (The plot must have the x-axis as Residuals and the y-axis as Normal Score, in BLUE colour)."
   ]
  },
  {
   "cell_type": "code",
   "execution_count": 36,
   "metadata": {},
   "outputs": [
    {
     "data": {
      "image/png": "[encoded data removed]",
      "text/plain": [
       "<Figure size 640x480 with 1 Axes>"
      ]
     },
     "metadata": {},
     "output_type": "display_data"
    }
   ],
   "source": [
    "# calculate the residuals\n",
    "data['residuals'] = data['observations'] - data.groupby('cotton')['observations'].transform('mean')\n",
    "\n",
    "# create a normal probability plot\n",
    "stats.probplot(data['residuals'], plot=plt)\n",
    "\n",
    "# set the title and labels\n",
    "plt.title('Normal Probability Plot of Residuals')\n",
    "plt.xlabel('Residuals')\n",
    "plt.ylabel('Normal Score')\n",
    "\n",
    "# show the plot\n",
    "plt.show()"
   ]
  },
  {
   "attachments": {},
   "cell_type": "markdown",
   "metadata": {},
   "source": [
    "### Comments :\n",
    "\n",
    "- Based on the plot, we can see that the residuals appear to be roughly normally distributed, with a few outliers at the extremes. Therefore, the model appears to be adequate for analyzing the effect of cotton content on tensile strength."
   ]
  }
 ],
 "metadata": {
  "kernelspec": {
   "display_name": "Python 3",
   "language": "python",
   "name": "python3"
  },
  "language_info": {
   "codemirror_mode": {
    "name": "ipython",
    "version": 3
   },
   "file_extension": ".py",
   "mimetype": "text/x-python",
   "name": "python",
   "nbconvert_exporter": "python",
   "pygments_lexer": "ipython3",
   "version": "3.9.13"
  },
  "orig_nbformat": 4
 },
 "nbformat": 4,
 "nbformat_minor": 2
}
