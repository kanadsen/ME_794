{
 "cells": [
  {
   "cell_type": "code",
   "execution_count": 34,
   "metadata": {},
   "outputs": [],
   "source": [
    "import pandas as pd\n",
    "import scipy.stats as stats\n",
    "import matplotlib.pyplot as plt\n",
    "import numpy as np"
   ]
  },
  {
   "cell_type": "code",
   "execution_count": 4,
   "metadata": {},
   "outputs": [
    {
     "name": "stdout",
     "output_type": "stream",
     "text": [
      "Matrix :  [[0.78 0.8  0.81 0.75 0.77 0.78]\n",
      " [0.85 0.85 0.92 0.86 0.81 0.83]\n",
      " [0.93 0.92 0.95 0.89 0.89 0.83]\n",
      " [1.14 0.97 0.98 0.88 0.86 0.83]\n",
      " [0.97 0.86 0.78 0.76 0.76 0.75]]\n"
     ]
    }
   ],
   "source": [
    "# define matrix containing the values\n",
    "rows=int(input(\"Enter number of rows\"))\n",
    "cols=int(input(\"Enter number of Columns\"))\n",
    "A=np.zeros((rows,cols))\n",
    "\n",
    "# Enter values\n",
    "\n",
    "for i in range(rows):\n",
    "    for j in range(cols):\n",
    "        A[i,j]=float(input(f\"Enter the value of {i}th row and {j}th column\"))\n",
    "\n",
    "print(\"Matrix : \",A)"
   ]
  },
  {
   "cell_type": "code",
   "execution_count": 21,
   "metadata": {},
   "outputs": [
    {
     "data": {
      "text/plain": [
       "array([4.69, 5.12, 5.41, 5.66, 4.88])"
      ]
     },
     "execution_count": 21,
     "metadata": {},
     "output_type": "execute_result"
    }
   ],
   "source": [
    "# Calculate the sum of rows\n",
    "Sum_of_rows=np.sum(A,axis=1)\n",
    "Sum_of_rows    "
   ]
  },
  {
   "cell_type": "code",
   "execution_count": 22,
   "metadata": {},
   "outputs": [
    {
     "data": {
      "text/plain": [
       "array([4.67, 4.4 , 4.44, 4.14, 4.09, 4.02])"
      ]
     },
     "execution_count": 22,
     "metadata": {},
     "output_type": "execute_result"
    }
   ],
   "source": [
    "# Calculate the sum of Columns\n",
    "Sum_of_cols=np.sum(A,axis=0)\n",
    "Sum_of_cols"
   ]
  },
  {
   "cell_type": "code",
   "execution_count": 23,
   "metadata": {},
   "outputs": [
    {
     "data": {
      "text/plain": [
       "25.759999999999998"
      ]
     },
     "execution_count": 23,
     "metadata": {},
     "output_type": "execute_result"
    }
   ],
   "source": [
    "Total_sum_of_elements=np.sum(Sum_of_cols,axis=0)\n",
    "Total_sum_of_elements"
   ]
  },
  {
   "cell_type": "code",
   "execution_count": 24,
   "metadata": {},
   "outputs": [
    {
     "name": "stdout",
     "output_type": "stream",
     "text": [
      "22.3416\n",
      "Sum of total : 0.22234666666667025\n"
     ]
    }
   ],
   "source": [
    "# Calculate Sum of Sqauares total\n",
    "SST=0\n",
    "for i in range(rows):\n",
    "    for j in range(cols):\n",
    "        SST+=A[i,j]**2\n",
    "\n",
    "print(SST)\n",
    "SST-=Total_sum_of_elements**2/(rows*cols)\n",
    "print(\"Sum of total :\",SST)"
   ]
  },
  {
   "cell_type": "code",
   "execution_count": 25,
   "metadata": {},
   "outputs": [
    {
     "name": "stdout",
     "output_type": "stream",
     "text": [
      "(5,)\n",
      "Sum of Treatments : 0.10218000000000416\n"
     ]
    }
   ],
   "source": [
    "# Calculation on treatments\n",
    "SStreatments=0\n",
    "print(Sum_of_rows.shape)\n",
    "for i in range(Sum_of_rows.shape[0]):\n",
    "    SStreatments+=Sum_of_rows[i]**2\n",
    "SStreatments/=Sum_of_cols.shape[0]\n",
    "SStreatments-=Total_sum_of_elements**2/(rows*cols)\n",
    "print(\"Sum of Treatments :\",SStreatments)"
   ]
  },
  {
   "cell_type": "code",
   "execution_count": 26,
   "metadata": {},
   "outputs": [
    {
     "name": "stdout",
     "output_type": "stream",
     "text": [
      "(6,)\n",
      "Sum of Blocks : 0.06286666666666818\n"
     ]
    }
   ],
   "source": [
    "# Calculation of Block\n",
    "SSblock=0\n",
    "print(Sum_of_cols.shape)\n",
    "for i in range(Sum_of_cols.shape[0]):\n",
    "    SSblock+=Sum_of_cols[i]**2\n",
    "SSblock/=Sum_of_rows.shape[0]\n",
    "SSblock-=Total_sum_of_elements**2/(rows*cols)\n",
    "print(\"Sum of Blocks :\",SSblock)"
   ]
  },
  {
   "cell_type": "code",
   "execution_count": 27,
   "metadata": {},
   "outputs": [
    {
     "name": "stdout",
     "output_type": "stream",
     "text": [
      "Error 0.05729999999999791\n"
     ]
    }
   ],
   "source": [
    "# Error\n",
    "SSerror=SST-SStreatments-SSblock\n",
    "print(\"Error\",SSerror)"
   ]
  },
  {
   "cell_type": "code",
   "execution_count": 28,
   "metadata": {},
   "outputs": [],
   "source": [
    "# Calculation of degrees of Freedom\n",
    "dft=Sum_of_rows.shape[0]-1\n",
    "dfb=Sum_of_cols.shape[0]-1\n",
    "dfw=dft*dfb\n",
    "dftotal=rows*cols-1"
   ]
  },
  {
   "cell_type": "code",
   "execution_count": 29,
   "metadata": {},
   "outputs": [],
   "source": [
    "# Calculation of Mean squares\n",
    "mst=(SStreatments/dft)\n",
    "msb=SSblock/dfb\n",
    "mse=SSerror/dfw"
   ]
  },
  {
   "cell_type": "code",
   "execution_count": 30,
   "metadata": {},
   "outputs": [],
   "source": [
    "Ftreat=mst/mse\n",
    "Fblock=msb/mse"
   ]
  },
  {
   "cell_type": "code",
   "execution_count": 31,
   "metadata": {},
   "outputs": [
    {
     "name": "stdout",
     "output_type": "stream",
     "text": [
      "                     Sum of Squares  Degrees of Freedom  Mean Square   F value\n",
      "Source of Variation                                                           \n",
      "Between Treatments         0.102180                   4     0.025545  8.916230\n",
      "Blocks                     0.062867                   5     0.012573  4.388598\n",
      "Error                      0.057300                  20     0.002865       NaN\n",
      "Total                      0.222347                  29          NaN       NaN\n"
     ]
    }
   ],
   "source": [
    "# create the ANOVA table\n",
    "anova_table = pd.DataFrame({'Source of Variation': ['Between Treatments', 'Blocks','Error ', 'Total'],\n",
    "    'Sum of Squares': [SStreatments, SSblock,SSerror, SST],\n",
    "    'Degrees of Freedom': [dft, dfb, dfw,dftotal],\n",
    "    'Mean Square': [mst, msb, mse,np.nan],\n",
    "    'F value': [Ftreat, Fblock, np.nan,np.nan],\n",
    "})\n",
    "\n",
    "# set the index to the source column\n",
    "anova_table.set_index('Source of Variation', inplace=True)\n",
    "\n",
    "# display the ANOVA table\n",
    "print(anova_table)"
   ]
  },
  {
   "cell_type": "code",
   "execution_count": 36,
   "metadata": {},
   "outputs": [
    {
     "data": {
      "image/png": "[encoded data removed]",
      "text/plain": [
       "<Figure size 640x480 with 1 Axes>"
      ]
     },
     "metadata": {},
     "output_type": "display_data"
    }
   ],
   "source": [
    "# create the residual plot\n",
    "residuals = []\n",
    "for i in range(rows):\n",
    "    for j in range(cols):\n",
    "        residuals.append(A[i,j]-Sum_of_rows[i]/Sum_of_cols.shape[0])  # Sum_of_rows[i]/Sum_of_cols.shape[0]\n",
    "#stats.probplot(residuals, plot=plt)\n",
    "stats.probplot(residuals, dist=\"norm\", plot=plt)\n",
    "\n",
    "# Calculate normal scores\n",
    "\n",
    "\n",
    "# set the title and labels\n",
    "plt.title('Normal Probability Plot of Residuals')\n",
    "plt.xlabel('Residuals')\n",
    "plt.ylabel('Normal % probability')\n",
    "\n",
    "# show the plot\n",
    "plt.show()\n"
   ]
  },
  {
   "attachments": {},
   "cell_type": "markdown",
   "metadata": {},
   "source": [
    "### COMMENTS :\n",
    "\n",
    "- As the value of the F value found (8.9162) is less than the value found from F from the table with degrees of freedom 4,20 which is    (2.866) so we can say that the Nozzle design affects the shape factor. Thus, we rejectd the NULL Hypothesis and accept Alternate Hypothesis.\n",
    "\n",
    "- The probability plot don't show any abnormalities in the data. Though some outliers can be seen at the ends."
   ]
  }
 ],
 "metadata": {
  "kernelspec": {
   "display_name": "Python 3",
   "language": "python",
   "name": "python3"
  },
  "language_info": {
   "codemirror_mode": {
    "name": "ipython",
    "version": 3
   },
   "file_extension": ".py",
   "mimetype": "text/x-python",
   "name": "python",
   "nbconvert_exporter": "python",
   "pygments_lexer": "ipython3",
   "version": "3.9.13"
  },
  "orig_nbformat": 4
 },
 "nbformat": 4,
 "nbformat_minor": 2
}
