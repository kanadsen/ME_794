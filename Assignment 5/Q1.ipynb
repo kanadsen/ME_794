{
 "cells": [
  {
   "attachments": {},
   "cell_type": "markdown",
   "metadata": {},
   "source": [
    "### QUESTION 1"
   ]
  },
  {
   "attachments": {},
   "cell_type": "markdown",
   "metadata": {},
   "source": [
    "### QUESTION A:\n",
    "\n",
    "- Write a program to calculate regression model that includes main effects and all two-factor interaction effects"
   ]
  },
  {
   "cell_type": "code",
   "execution_count": 343,
   "metadata": {},
   "outputs": [
    {
     "name": "stdout",
     "output_type": "stream",
     "text": [
      "                            OLS Regression Results                            \n",
      "==============================================================================\n",
      "Dep. Variable:                    New   R-squared:                       0.984\n",
      "Model:                            OLS   Adj. R-squared:                  0.886\n",
      "Method:                 Least Squares   F-statistic:                     10.07\n",
      "Date:                Sat, 15 Apr 2023   Prob (F-statistic):              0.237\n",
      "Time:                        21:36:33   Log-Likelihood:                -5.8063\n",
      "No. Observations:                   8   AIC:                             25.61\n",
      "Df Residuals:                       1   BIC:                             26.17\n",
      "Df Model:                           6                                         \n",
      "Covariance Type:            nonrobust                                         \n",
      "==============================================================================\n",
      "                 coef    std err          t      P>|t|      [0.025      0.975]\n",
      "------------------------------------------------------------------------------\n",
      "Intercept     47.6250      0.500     95.250      0.007      41.272      53.978\n",
      "A             -0.8750      0.500     -1.750      0.330      -7.228       5.478\n",
      "B              0.3750      0.500      0.750      0.590      -5.978       6.728\n",
      "C              1.5000      0.500      3.000      0.205      -4.853       7.853\n",
      "A:B            1.6250      0.500      3.250      0.190      -4.728       7.978\n",
      "A:C            2.5000      0.500      5.000      0.126      -3.853       8.853\n",
      "B:C            1.7500      0.500      3.500      0.177      -4.603       8.103\n",
      "==============================================================================\n",
      "Omnibus:                        9.677   Durbin-Watson:                   2.500\n",
      "Prob(Omnibus):                  0.008   Jarque-Bera (JB):                1.333\n",
      "Skew:                           0.000   Prob(JB):                        0.513\n",
      "Kurtosis:                       1.000   Cond. No.                         1.00\n",
      "==============================================================================\n",
      "\n",
      "Notes:\n",
      "[1] Standard Errors assume that the covariance matrix of the errors is correctly specified.\n"
     ]
    },
    {
     "name": "stderr",
     "output_type": "stream",
     "text": [
      "c:\\Users\\kanad\\AppData\\Local\\Programs\\Python\\Python39\\lib\\site-packages\\scipy\\stats\\_stats_py.py:1477: UserWarning: kurtosistest only valid for n>=20 ... continuing anyway, n=8\n",
      "  warnings.warn(\"kurtosistest only valid for n>=20 ... continuing \"\n"
     ]
    }
   ],
   "source": [
    "import pandas as pd\n",
    "import statsmodels.formula.api as smf\n",
    "\n",
    "# Create a pandas dataframe from the data in Table 1\n",
    "data = {'A': [-1, 1, -1, 1, -1, 1, -1, 1],\n",
    "        'B': [-1, -1, 1, 1, -1, -1, 1, 1],\n",
    "        'C': [-1, -1, -1, -1, 1, 1, 1, 1],\n",
    "        'Replicate': ['1', '1', '1', '1', '2', '2', '2', '2'],\n",
    "        'Orders1': [50, 44, 46, 42, 49, 48, 47, 56],\n",
    "        'Orders2': [54, 42, 48, 43, 46, 45, 48, 54]}\n",
    "df = pd.DataFrame(data)\n",
    "df['New']=(df['Orders1']+df['Orders2'])/2\n",
    "\n",
    "# Fit a regression model with main effects and two-factor interactions\n",
    "model = smf.ols(formula='New ~ A + B + C + A:B + A:C + B:C', data=df).fit()\n",
    "\n",
    "# Print the model summary\n",
    "print(model.summary())"
   ]
  },
  {
   "attachments": {},
   "cell_type": "markdown",
   "metadata": {},
   "source": [
    "### COMMENTS :\n",
    "\n",
    "- The coefficients are [47.63, -0.875, 0.375, 1.5,1.625,2.5,1.75] for the regression model."
   ]
  },
  {
   "attachments": {},
   "cell_type": "markdown",
   "metadata": {},
   "source": [
    "### QUESTION B:\n",
    "\n",
    "- Perform the analyse of variance (Hint: complete table 2). Based on analysis which factors significantly affect the customer response rate?"
   ]
  },
  {
   "cell_type": "code",
   "execution_count": 344,
   "metadata": {},
   "outputs": [
    {
     "name": "stdout",
     "output_type": "stream",
     "text": [
      "SS_A : 12.25\n",
      "SS_B : 2.25\n",
      "SS_C : 36.0\n",
      "SS_AB : 42.25\n",
      "SS_AC : 100.0\n",
      "SS_BC : 49.0\n",
      "SS_Model : 241.75\n",
      "SS_T : 269.75\n",
      "Residual error : 28.0\n",
      "SS_ABC/ SS_Lack of Fit: 4.0\n",
      "SS_Pure Error : 24.0\n"
     ]
    }
   ],
   "source": [
    "import pandas as pd\n",
    "import numpy as np\n",
    "import scipy.stats as stats\n",
    "\n",
    "# Read the data from the table and store it in a pandas dataframe\n",
    "data = pd.DataFrame({\n",
    "    'A': [-1, 1, -1, 1, -1, 1, -1, 1],\n",
    "    'B': [-1, -1, 1, 1, -1, -1, 1, 1],\n",
    "    'C': [-1, -1, -1, -1, 1, 1, 1, 1],  \n",
    "})\n",
    "df['Replicate_1']=[50, 44, 46, 42, 49, 48, 47, 56]\n",
    "df['Replicate_2']=[54, 42, 48, 43, 46, 45, 48, 54]\n",
    "df['Sum']=df['Replicate_1']+df['Replicate_2']\n",
    "temp=df['Sum']\n",
    "#print(temp)\n",
    "def SS(x):\n",
    "    return (8*x)**2/(8*2)\n",
    "# Sum of Squares for A\n",
    "A=(1/len(temp))*(temp[1]-temp[0]+temp[3]-temp[2]+temp[5]-temp[4]+temp[7]-temp[6])\n",
    "SS_A=SS(A)\n",
    "print('SS_A :',SS_A)\n",
    "# Sum of Squares for B\n",
    "B=(1/len(temp))*(temp[2]+temp[3]+temp[6]+temp[7]-temp[0]-temp[1]-temp[4]-temp[5])\n",
    "SS_B=SS(B)\n",
    "print('SS_B :',SS_B)\n",
    "# Sum of Squares for C\n",
    "C=(1/len(temp))*(temp[4]+temp[5]+temp[6]+temp[7]-temp[0]-temp[1]-temp[2]-temp[3])\n",
    "SS_C=SS(C)\n",
    "print('SS_C :',SS_C)\n",
    "# Sum of Squares for AB\n",
    "AB=(1/len(temp))*(temp[3]-temp[1]-temp[2]+temp[0]+temp[7]-temp[6]-temp[5]+temp[4])\n",
    "SS_AB=SS(AB)\n",
    "print('SS_AB :',SS_AB)\n",
    "# Sum of Squares for AC\n",
    "AC=(1/len(temp))*(temp[0]-temp[1]+temp[2]-temp[3]-temp[4]+temp[5]-temp[6]+temp[7])\n",
    "SS_AC=SS(AC)\n",
    "print('SS_AC :',SS_AC)\n",
    "# Sum of Squares for BC\n",
    "BC=(1/len(temp))*(temp[0]+temp[1]-temp[2]-temp[3]-temp[4]-temp[5]+temp[6]+temp[7])\n",
    "SS_BC=SS(BC)\n",
    "print('SS_BC :',SS_BC)\n",
    "# Sum of Squares for Model\n",
    "SSModel=SS_A+SS_B+SS_C+SS_AB+SS_BC+SS_AC\n",
    "print('SS_Model :',SSModel)\n",
    "# Sum of Squares for Total\n",
    "S=df['Replicate_1'].to_numpy()**2+df['Replicate_2'].to_numpy()**2\n",
    "S=np.sum(S)-(np.sum(df['Replicate_1'].to_numpy()+df['Replicate_2'].to_numpy()))**2/16\n",
    "#print(S)\n",
    "SST=S\n",
    "print('SS_T :',SST)\n",
    "SS_Residual=SST-SSModel\n",
    "print('Residual error :',SS_Residual)\n",
    "# Sum of Squares for ABC\n",
    "ABC=(1/len(temp))*(temp[7]-temp[6]-temp[5]+temp[4]-temp[3]+temp[2]+temp[1]-temp[0])\n",
    "SS_ABC=SS(ABC)\n",
    "print('SS_ABC/ SS_Lack of Fit:',SS_ABC)\n",
    "SS_Pure_Error = SS_Residual - SS_ABC\n",
    "print('SS_Pure Error :',SS_Pure_Error)"
   ]
  },
  {
   "cell_type": "code",
   "execution_count": 345,
   "metadata": {},
   "outputs": [],
   "source": [
    "DOF=[6,1,1,1,1,1,1,9,1,8,15] # Degree of freedom"
   ]
  },
  {
   "cell_type": "code",
   "execution_count": 346,
   "metadata": {},
   "outputs": [],
   "source": [
    "MSE=[SSModel/DOF[0],SS_A/DOF[1],SS_B/DOF[2],SS_C/DOF[3],SS_AB/DOF[4],SS_BC/DOF[5],SS_AC/DOF[6],\n",
    "     SS_Residual/DOF[7],SS_ABC/DOF[8],SS_Pure_Error/DOF[9],np.nan]"
   ]
  },
  {
   "cell_type": "code",
   "execution_count": 347,
   "metadata": {},
   "outputs": [
    {
     "name": "stdout",
     "output_type": "stream",
     "text": [
      "[12.950892857142856, 3.9375, 0.7232142857142857, 11.571428571428571, 13.580357142857142, 15.75, 32.14285714285714, 1.0, 1.2857142857142856, 0.9642857142857143, nan]\n"
     ]
    }
   ],
   "source": [
    "F=[]\n",
    "for i in range(len(MSE)):\n",
    "    F.append(MSE[i]/MSE[7])\n",
    "print(F)"
   ]
  },
  {
   "cell_type": "code",
   "execution_count": 348,
   "metadata": {},
   "outputs": [
    {
     "name": "stdout",
     "output_type": "stream",
     "text": [
      "                     Sum of Squares  Degrees of Freedom  Mean Square  \\\n",
      "Source of Variation                                                    \n",
      "Model                        241.75                   6    40.291667   \n",
      "A                             12.25                   1    12.250000   \n",
      "B                              2.25                   1     2.250000   \n",
      "C                             36.00                   1    36.000000   \n",
      "AB                            42.25                   1    42.250000   \n",
      "AC                            49.00                   1    49.000000   \n",
      "BC                           100.00                   1   100.000000   \n",
      "Residual                      28.00                   9     3.111111   \n",
      "Lack of Fit                    4.00                   1     4.000000   \n",
      "Pure error                    24.00                   8     3.000000   \n",
      "Total                        269.75                  15          NaN   \n",
      "\n",
      "                       F value  \n",
      "Source of Variation             \n",
      "Model                12.950893  \n",
      "A                     3.937500  \n",
      "B                     0.723214  \n",
      "C                    11.571429  \n",
      "AB                   13.580357  \n",
      "AC                   15.750000  \n",
      "BC                   32.142857  \n",
      "Residual              1.000000  \n",
      "Lack of Fit           1.285714  \n",
      "Pure error            0.964286  \n",
      "Total                      NaN  \n"
     ]
    }
   ],
   "source": [
    "# create the ANOVA table\n",
    "anova_table = pd.DataFrame({\n",
    "    'Source of Variation': ['Model', 'A', 'B','C', 'AB','AC', 'BC','Residual', 'Lack of Fit','Pure error', 'Total'],\n",
    "    'Sum of Squares': [SSModel,SS_A,SS_B,SS_C,SS_AB,SS_BC,SS_AC,SS_Residual,SS_ABC,SS_Pure_Error,SST],\n",
    "    'Degrees of Freedom': DOF,\n",
    "    'Mean Square': MSE,\n",
    "    'F value': F,\n",
    "})\n",
    "\n",
    "# set the index to the source column\n",
    "anova_table.set_index('Source of Variation', inplace=True)\n",
    "\n",
    "# display the ANOVA table\n",
    "print(anova_table)"
   ]
  },
  {
   "attachments": {},
   "cell_type": "markdown",
   "metadata": {},
   "source": [
    "### COMMENTS :\n",
    "\n",
    "- The Model F-value of 12.95 implies the model is significant. There is only a 0.06% chance that a \"Model F-Value\" this large could occur due to noise.\n",
    "\n",
    "- In this case C, AB, AC, BC are significant model terms. \n",
    "\n",
    "- From the F values the two factor interactions, AB, AC, BC, and factors A and C as significant. Factor B is not significant; however, remains in the model to satisfy the hierarchal principle. The analysis of variance confirms the significance of two factor interactions and factor C.However, factor A is only marginally significant compared to others."
   ]
  },
  {
   "attachments": {},
   "cell_type": "markdown",
   "metadata": {},
   "source": [
    "### QUESTION C:\n",
    "- Analyze the residuals from this experiment. Are there any indications of model inadequacy? (There will be two graphs; the x-axis Vs y-axis will be, ‘Residual’ Vs ‘Normal % Probability’ in the first graph and ‘Predicted’ Vs ‘Residuals' in the second graph. The plot colour should be RED for both graphs.)"
   ]
  },
  {
   "cell_type": "code",
   "execution_count": 349,
   "metadata": {},
   "outputs": [
    {
     "name": "stderr",
     "output_type": "stream",
     "text": [
      "c:\\Users\\kanad\\AppData\\Local\\Programs\\Python\\Python39\\lib\\site-packages\\statsmodels\\graphics\\gofplots.py:1045: UserWarning: color is redundantly defined by the 'color' keyword argument and the fmt string \"b\" (-> color=(0.0, 0.0, 1.0, 1)). The keyword argument will take precedence.\n",
      "  ax.plot(x, y, fmt, **plot_style)\n"
     ]
    },
    {
     "data": {
      "image/png": "[encoded data removed]",
      "text/plain": [
       "<Figure size 640x480 with 1 Axes>"
      ]
     },
     "metadata": {},
     "output_type": "display_data"
    },
    {
     "data": {
      "image/png": "[encoded data removed]",
      "text/plain": [
       "<Figure size 640x480 with 1 Axes>"
      ]
     },
     "metadata": {},
     "output_type": "display_data"
    }
   ],
   "source": [
    "import numpy as np\n",
    "import matplotlib.pyplot as plt\n",
    "import statsmodels.api as sm\n",
    "\n",
    "# Generate the residual vs. normal probability plot\n",
    "residuals = model.resid\n",
    "fig, ax = plt.subplots()\n",
    "sm.qqplot(residuals, line='45', ax=ax, color='red')\n",
    "ax.set(title='Residuals vs. Normal Probability', xlabel='Theoretical Quantiles', ylabel='Sample Quantiles')\n",
    "plt.show()\n",
    "\n",
    "# Generate the predicted vs. residuals plot\n",
    "predicted = model.fittedvalues\n",
    "fig, ax = plt.subplots()\n",
    "ax.scatter(predicted, residuals, color='red')\n",
    "ax.axhline(y=0, color='black', linestyle='--')\n",
    "ax.set(title='Predicted vs. Residuals', xlabel='Predicted', ylabel='Residuals')\n",
    "plt.show()\n",
    "\n"
   ]
  },
  {
   "attachments": {},
   "cell_type": "markdown",
   "metadata": {},
   "source": [
    "### COMMENTS :\n",
    "\n",
    "- The residual plots below do not identify model inadequacy."
   ]
  },
  {
   "attachments": {},
   "cell_type": "markdown",
   "metadata": {},
   "source": [
    "### QUESTION D:\n",
    "\n",
    "- Suppose only one-half of data in given problem could be run, construct the design and perform the statistical analysis using the data from replicate I"
   ]
  },
  {
   "cell_type": "code",
   "execution_count": 350,
   "metadata": {},
   "outputs": [
    {
     "data": {
      "text/plain": [
       "array([50, 44, 46, 42], dtype=int64)"
      ]
     },
     "execution_count": 350,
     "metadata": {},
     "output_type": "execute_result"
    }
   ],
   "source": [
    "X = [[-1, -1],\n",
    "     [-1, 1],\n",
    "     [1, -1],\n",
    "     [1, 1]]\n",
    "y=((df['Replicate_1'])).loc[0:3].to_numpy()\n",
    "y"
   ]
  },
  {
   "cell_type": "code",
   "execution_count": 351,
   "metadata": {},
   "outputs": [
    {
     "name": "stdout",
     "output_type": "stream",
     "text": [
      "35.0\n",
      "  Source of Variation  Sum of Squares  Degrees of Freedom  Mean Square  \\\n",
      "0                   A            25.0                   1         25.0   \n",
      "1                   B             9.0                   1          9.0   \n",
      "2                  AB             1.0                   1          1.0   \n",
      "3               Error             0.0                   8          0.0   \n",
      "\n",
      "   F-value  p-value  \n",
      "0      inf      0.0  \n",
      "1      inf      0.0  \n",
      "2      inf      0.0  \n",
      "3      NaN      NaN  \n"
     ]
    },
    {
     "name": "stderr",
     "output_type": "stream",
     "text": [
      "C:\\Users\\kanad\\AppData\\Local\\Temp\\ipykernel_25884\\2541813103.py:30: RuntimeWarning: divide by zero encountered in double_scalars\n",
      "  f_a = ms_a / ms_error\n",
      "C:\\Users\\kanad\\AppData\\Local\\Temp\\ipykernel_25884\\2541813103.py:31: RuntimeWarning: divide by zero encountered in double_scalars\n",
      "  f_b = ms_b / ms_error\n",
      "C:\\Users\\kanad\\AppData\\Local\\Temp\\ipykernel_25884\\2541813103.py:32: RuntimeWarning: divide by zero encountered in double_scalars\n",
      "  f_ab = ms_ab / ms_error\n"
     ]
    }
   ],
   "source": [
    "# Calculate total sum of squares\n",
    "total_ss = np.sum(y**2)-np.sum(y)**2/4\n",
    "print(total_ss)\n",
    "\n",
    "# Calculate sum of squares for factor A\n",
    "ss_a = (y[3]+y[1]-y[2]-y[0])**2/(4)\n",
    "\n",
    "# Calculate sum of squares for factor B\n",
    "ss_b = (y[3]+y[2]-y[1]-y[0])**2/(4)\n",
    "\n",
    "# Calculate sum of squares for interaction AB\n",
    "ss_ab = (y[3]+y[0]-y[1]-y[2])**2/(4)\n",
    "\n",
    "# Calculate residual sum of squares\n",
    "error_ss = total_ss - ss_a - ss_b - ss_ab\n",
    "\n",
    "# Calculate degrees of freedom\n",
    "df_a = 1\n",
    "df_b = 1\n",
    "df_ab = 1\n",
    "df_error = 8\n",
    "\n",
    "# Calculate the mean square for each source of variation\n",
    "ms_a = ss_a / df_a\n",
    "ms_b = ss_b / df_b\n",
    "ms_ab = ss_ab / df_ab\n",
    "ms_error = error_ss / df_error\n",
    "\n",
    "# Calculate the F-value for each source of variation\n",
    "f_a = ms_a / ms_error\n",
    "f_b = ms_b / ms_error\n",
    "f_ab = ms_ab / ms_error\n",
    "\n",
    "# Calculate the p-value for each source of variation\n",
    "p_a = 1 - stats.f.cdf(f_a, df_a, df_error)\n",
    "p_b = 1 - stats.f.cdf(f_b, df_b, df_error)\n",
    "p_ab = 1 - stats.f.cdf(f_ab, df_ab, df_error)\n",
    "\n",
    "# Display the results\n",
    "df = pd.DataFrame({'Source of Variation':['A','B','AB','Error'],\n",
    "                   'Sum of Squares':[ss_a,ss_b,ss_ab,error_ss],\n",
    "                   'Degrees of Freedom':[df_a,df_b,df_ab,df_error],\n",
    "                   'Mean Square':[ms_a,ms_b,ms_ab,ms_error],\n",
    "                   'F-value':[f_a,f_b,f_ab,np.nan],\n",
    "                   'p-value':[p_a,p_b,p_ab,np.nan]})\n",
    "print(df)\n"
   ]
  },
  {
   "attachments": {},
   "cell_type": "markdown",
   "metadata": {},
   "source": [
    "### COMMENTS :\n",
    "\n",
    "-  Here we can see that the error is 0."
   ]
  }
 ],
 "metadata": {
  "kernelspec": {
   "display_name": "793_env",
   "language": "python",
   "name": "python3"
  },
  "language_info": {
   "codemirror_mode": {
    "name": "ipython",
    "version": 3
   },
   "file_extension": ".py",
   "mimetype": "text/x-python",
   "name": "python",
   "nbconvert_exporter": "python",
   "pygments_lexer": "ipython3",
   "version": "3.9.13"
  },
  "orig_nbformat": 4
 },
 "nbformat": 4,
 "nbformat_minor": 2
}
