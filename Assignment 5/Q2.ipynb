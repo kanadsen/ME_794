{
 "cells": [
  {
   "attachments": {},
   "cell_type": "markdown",
   "metadata": {},
   "source": [
    "### QUESTION 2 :\n",
    "\n",
    "- The region of experimentation for two factors are temperature (100 ≤ T ≤ 300°F) and catalyst feed rate (10 ≤ C ≤ 30 lb/in). A first-order model in the usual ±1 coded variable has been fit to  a molecular weight response, yielding the following model: \n",
    "- 𝑦′ = 2000 + 125𝑥1 + 40𝑥2\n",
    "- Find the path of steepest ascent and complete the table"
   ]
  },
  {
   "cell_type": "code",
   "execution_count": 30,
   "metadata": {},
   "outputs": [
    {
     "name": "stdout",
     "output_type": "stream",
     "text": [
      "\n",
      "Path of steepest ascent:\n",
      "\n",
      "\t\tCoded Variables  \tNatural Variables\n",
      "\t\t  x1\t x2\t\t   T\t\tC\n",
      "Origin            0 \t 0\t\t 200.0\t\t20.0\n",
      "del               1 \t 0.32\t\t 100.0\t\t3.2\n",
      "Origin + del      1 \t 0.32\t\t 300.0\t\t23.2\n",
      "Origin + 5*del    5 \t 1.6\t\t 700.0\t\t36.0\n"
     ]
    }
   ],
   "source": [
    "import numpy as np\n",
    "\n",
    "# Define the coefficients of the model\n",
    "c0 = 2000\n",
    "c1 = 125\n",
    "c2 = 40\n",
    "\n",
    "# Define the ranges for the coded variables\n",
    "xmin = -1\n",
    "xmax = 1\n",
    "\n",
    "# Define the ranges for the natural variables\n",
    "Tmin = 100\n",
    "Tmax = 300\n",
    "Cmin = 10\n",
    "Cmax = 30\n",
    "\n",
    "# Define the step sizes for the natural variables\n",
    "dT = (Tmax - Tmin) / 2\n",
    "dC = (Cmax - Cmin) / 2\n",
    "\n",
    "# Define the origin\n",
    "x1_0 = x2_0 = 0\n",
    "\n",
    "# We know that x1=(T-200)/100\n",
    "Torigin=x1_0*dT+(Tmax - Tmin)\n",
    "Corigin=x2_0*dC+(Cmax - Cmin)\n",
    "\n",
    "# Define the delta values\n",
    "# Considering dx=1 as initial condidition\n",
    "dx1 =1\n",
    "two_lambda=c1/dx1  # Calculating lambda\n",
    "# Calculating dx2 from dx1\n",
    "dx2=c2/two_lambda\n",
    "# Calculating dT1\n",
    "dT1=dx1*dT\n",
    "# Calculating dC1\n",
    "dC1=dx2*dC\n",
    "\n",
    "# Calculate the values for the path of steepest ascent\n",
    "x1_d = [x1_0, x1_0 + dx1, x1_0 + dx1,x1_0 + 5*dx1]\n",
    "x2_d = [x2_0, x2_0 + dx2, x2_0 + dx2, x2_0 + 5*dx2]\n",
    "T_d = [Torigin,dT1,Torigin+dT1,Torigin+5*dT1]\n",
    "C_d = [Corigin,dC1,Corigin+dC1,Corigin+5*dC1]\n",
    "\n",
    "print(\"\\nPath of steepest ascent:\\n\")\n",
    "print(\"\\t\\tCoded Variables  \\tNatural Variables\")\n",
    "print(\"\\t\\t  x1\\t x2\\t\\t   T\\t\\tC\")\n",
    "print(f'Origin            {x1_d[0]} \\t {x2_d[0]}\\t\\t {T_d[0]}\\t\\t{C_d[0]}')\n",
    "print(f'del               {x1_d[1]} \\t {x2_d[1]}\\t\\t {T_d[1]}\\t\\t{C_d[1]}')\n",
    "print(f'Origin + del      {x1_d[2]} \\t {x2_d[2]}\\t\\t {T_d[2]}\\t\\t{C_d[2]}')\n",
    "print(f'Origin + 5*del    {x1_d[3]} \\t {x2_d[3]}\\t\\t {T_d[3]}\\t\\t{C_d[3]}')\n"
   ]
  }
 ],
 "metadata": {
  "kernelspec": {
   "display_name": "793_env",
   "language": "python",
   "name": "python3"
  },
  "language_info": {
   "codemirror_mode": {
    "name": "ipython",
    "version": 3
   },
   "file_extension": ".py",
   "mimetype": "text/x-python",
   "name": "python",
   "nbconvert_exporter": "python",
   "pygments_lexer": "ipython3",
   "version": "3.10.9"
  },
  "orig_nbformat": 4
 },
 "nbformat": 4,
 "nbformat_minor": 2
}
